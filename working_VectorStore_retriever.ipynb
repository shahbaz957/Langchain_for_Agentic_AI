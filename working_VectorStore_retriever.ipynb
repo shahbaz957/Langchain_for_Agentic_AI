{
 "cells": [
  {
   "cell_type": "markdown",
   "id": "1dbfbab9",
   "metadata": {},
   "source": [
    "# **`VectorStore as Retriever With Message history storage`**"
   ]
  },
  {
   "cell_type": "code",
   "execution_count": 2,
   "id": "0a350fcc",
   "metadata": {},
   "outputs": [],
   "source": [
    "import os\n",
    "os.environ[\"HUGGINGFACE_API_KEY\"] = os.getenv(\"HUGGINGFACE_API_KEY\")"
   ]
  },
  {
   "cell_type": "code",
   "execution_count": 3,
   "id": "a329c605",
   "metadata": {},
   "outputs": [],
   "source": [
    "from langchain_huggingface import HuggingFaceEmbeddings\n",
    "embeddings = HuggingFaceEmbeddings(model_name = \"all-MiniLM-L6-v2\")"
   ]
  },
  {
   "cell_type": "code",
   "execution_count": 5,
   "id": "1acc251a",
   "metadata": {},
   "outputs": [],
   "source": [
    "query = \"My name is simply Shahbaz\"\n",
    "embedding = embeddings.embed_query(query)"
   ]
  },
  {
   "cell_type": "code",
   "execution_count": 7,
   "id": "7df60c93",
   "metadata": {},
   "outputs": [
    {
     "data": {
      "text/plain": [
       "384"
      ]
     },
     "execution_count": 7,
     "metadata": {},
     "output_type": "execute_result"
    }
   ],
   "source": [
    "len(embedding)"
   ]
  },
  {
   "cell_type": "markdown",
   "id": "51ab401e",
   "metadata": {},
   "source": [
    "## There are two ways in which vectorStore act as a retriever which helps system to integrate vectorStore in LCEL"
   ]
  },
  {
   "cell_type": "code",
   "execution_count": null,
   "id": "64106c1e",
   "metadata": {},
   "outputs": [],
   "source": [
    "vectorStore = \"Let say this is our VectorStore\"\n"
   ]
  },
  {
   "cell_type": "markdown",
   "id": "a0b87247",
   "metadata": {},
   "source": [
    "# **`1st Way`**"
   ]
  },
  {
   "cell_type": "code",
   "execution_count": null,
   "id": "f6121dc4",
   "metadata": {},
   "outputs": [],
   "source": [
    "from langchain_core.runnables import RunnableLambda\n",
    "retriever = RunnableLambda(vectorStore.similarity_search).bind(1)\n",
    "retriever.batch(['cat' , 'dog'])"
   ]
  },
  {
   "cell_type": "markdown",
   "id": "6bd24dbf",
   "metadata": {},
   "source": [
    "# **`2nd Way`**"
   ]
  },
  {
   "cell_type": "code",
   "execution_count": null,
   "id": "152c796e",
   "metadata": {},
   "outputs": [],
   "source": [
    "retriever = vectorStore.as_retriever(\n",
    "    search_type = \"similarity\",\n",
    "    search_kwargs = {\"k\" : 1}\n",
    ")\n",
    "retriever.batch([\"cat\" , 'dog'])"
   ]
  },
  {
   "cell_type": "markdown",
   "id": "cce85bed",
   "metadata": {},
   "source": [
    "# **`Just basic Rag Implementation`**"
   ]
  },
  {
   "cell_type": "code",
   "execution_count": null,
   "id": "550bac09",
   "metadata": {},
   "outputs": [],
   "source": [
    "from langchain_core.prompts import ChatPromptTemplate\n",
    "from langchain_core.runnables import RunnablePassthrough\n",
    "### Runnable passthrough is used as a placeholder in the chain to tell LCEL that this particular portion is provide through invoke method  Basically used for injecting data at runtime through .invoke() or .stream Method\n",
    "message = \"\"\"\n",
    "Answer this question using the provided context only \n",
    "{question}\n",
    "\n",
    "Context\n",
    "{context}\n",
    "\n",
    "\"\"\"\n",
    "\n",
    "prompt = ChatPromptTemplate.from_messages([(\"human\" , message)])\n",
    "rag_chain = {\"context\" : retriever , \"question\" : RunnablePassthrough()} | prompt | \"llm\" # i do this cuz i havenot upload the model yet\n",
    "rag_chain.invoke(\"Tell me about Dogs\")\n"
   ]
  },
  {
   "cell_type": "code",
   "execution_count": null,
   "id": "58c01485",
   "metadata": {},
   "outputs": [],
   "source": []
  }
 ],
 "metadata": {
  "kernelspec": {
   "display_name": "Python 3",
   "language": "python",
   "name": "python3"
  },
  "language_info": {
   "codemirror_mode": {
    "name": "ipython",
    "version": 3
   },
   "file_extension": ".py",
   "mimetype": "text/x-python",
   "name": "python",
   "nbconvert_exporter": "python",
   "pygments_lexer": "ipython3",
   "version": "3.10.18"
  }
 },
 "nbformat": 4,
 "nbformat_minor": 5
}
